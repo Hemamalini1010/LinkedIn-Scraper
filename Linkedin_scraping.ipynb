{
 "cells": [
  {
   "cell_type": "code",
   "execution_count": null,
   "id": "0608723d",
   "metadata": {
    "scrolled": false
   },
   "outputs": [],
   "source": [
    "##Load Necessary libraries\n",
    "import csv\n",
    "import requests\n",
    "from bs4 import BeautifulSoup\n",
    "from dateutil import parser\n",
    "from datetime import datetime\n",
    "\n",
    "## open file & write Header\n",
    "file = open('linkedin-joblist.csv', 'a', newline='', encoding='utf-8')\n",
    "writer = csv.writer(file, delimiter='|')\n",
    "writer.writerow(['Title', 'Company', 'Location','Link','job_time'])\n",
    "                 \n",
    "##Defining function to read the webpage & fetch the values for every job\n",
    "\n",
    "def linkedin_scraper(webpage,i,strn, page_number):\n",
    "    next_page = webpage +str(i)+strn+str(page_number)\n",
    "    print(str(next_page))\n",
    "    response = requests.get(str(next_page))\n",
    "    soup = BeautifulSoup(response.content,'html.parser')\n",
    "    jobs = soup.find_all('div', class_='base-card relative w-full hover:no-underline focus:no-underline base-card--link base-search-card base-search-card--link job-search-card')\n",
    "    jc=0\n",
    "    if page_number < 1000:\n",
    "        for job in jobs:\n",
    "            job_title = job.find('h3', class_='base-search-card__title').text.strip()\n",
    "            job_company = job.find('h4', class_='base-search-card__subtitle').text.strip()\n",
    "            job_location = job.find('span', class_='job-search-card__location').text.strip()\n",
    "            job_link = job.find('a', class_='base-card__full-link')['href']\n",
    "            #job_time = job.find('time', attrs={'class':'job-search-card__listdate'})['datetime']\n",
    "            if job.find('time', attrs={'class':'job-search-card__listdate'}) is None:\n",
    "                dt = datetime.now()\n",
    "            else:\n",
    "                dt = job.find('time', attrs={'class':'job-search-card__listdate'})['datetime']\n",
    "                print (dt)\n",
    "            writer.writerow([job_title,job_company,job_location,job_link,dt])\n",
    "        page_number = page_number + 25\n",
    "        linkedin_scraper(webpage,i,strn, page_number)\n",
    "    else:\n",
    "        file.close()\n",
    "        print('File closed')\n",
    "\n",
    "for i in range(0,4):\n",
    "    file = open('linkedin-joblist.csv', 'a', newline='', encoding='utf-8')\n",
    "    writer = csv.writer(file, delimiter='|')\n",
    "    print('i is',i)\n",
    "    ## Calling the funcion with URL \n",
    "    linkedin_scraper('https://www.linkedin.com/jobs-guest/jobs/api/seeMoreJobPostings/search?keywords=Data%20Analyst&location=Ireland&locationId=&geoId=104738515&f_TPR=r2592000&position=1&pageNum=',i,'&start=', 0)\n",
    "                 \n",
    "##Note Pagenumber needs to be updated to fetch next page dtails. Each function call works to fetcch the job in specified page number(pg) - This For loop is to execute thar logic\n",
    "        "
   ]
  }
 ],
 "metadata": {
  "kernelspec": {
   "display_name": "Python 3 (ipykernel)",
   "language": "python",
   "name": "python3"
  },
  "language_info": {
   "codemirror_mode": {
    "name": "ipython",
    "version": 3
   },
   "file_extension": ".py",
   "mimetype": "text/x-python",
   "name": "python",
   "nbconvert_exporter": "python",
   "pygments_lexer": "ipython3",
   "version": "3.9.13"
  }
 },
 "nbformat": 4,
 "nbformat_minor": 5
}
